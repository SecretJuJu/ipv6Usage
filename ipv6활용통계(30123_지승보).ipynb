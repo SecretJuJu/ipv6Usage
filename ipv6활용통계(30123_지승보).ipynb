{
 "cells": [
  {
   "cell_type": "markdown",
   "metadata": {
    "id": "WvBOmZRcGSth"
   },
   "source": [
    "# 프로젝트 이름\n",
    "- 학번 : 30123\n",
    "- 이름 : 지승보\n",
    "\n",
    "## 1. 주제\n",
    "- 질문\n",
    "1학년 네트워크시간에 IPv4의 고갈때문에 IPv6가 등장했다 하였는데 과연 IPv6는 얼마나 활용하고 있을까?\n",
    "\n",
    "## 2. 데이터 수집\n",
    "- 데이터 수집 방법 : 데이터를 보여주는 사이트의 table을 추출\n",
    "- 데이터 수집 사이트 : https://stats.labs.apnic.net/ipv6"
   ]
  },
  {
   "cell_type": "code",
   "execution_count": 4,
   "metadata": {},
   "outputs": [
    {
     "name": "stdout",
     "output_type": "stream",
     "text": [
      "Requirement already satisfied: pandas in /usr/local/lib/python3.9/site-packages (1.2.4)\r\n",
      "Requirement already satisfied: python-dateutil>=2.7.3 in /usr/local/lib/python3.9/site-packages (from pandas) (2.8.1)\r\n",
      "Requirement already satisfied: pytz>=2017.3 in /usr/local/lib/python3.9/site-packages (from pandas) (2021.1)\r\n",
      "Requirement already satisfied: numpy>=1.16.5 in /usr/local/lib/python3.9/site-packages (from pandas) (1.20.2)\r\n",
      "Requirement already satisfied: six>=1.5 in /usr/local/lib/python3.9/site-packages (from python-dateutil>=2.7.3->pandas) (1.15.0)\r\n"
     ]
    }
   ],
   "source": [
    "!pip install pandas"
   ]
  },
  {
   "cell_type": "code",
   "execution_count": 5,
   "metadata": {},
   "outputs": [
    {
     "ename": "ModuleNotFoundError",
     "evalue": "No module named 'pandas'",
     "output_type": "error",
     "traceback": [
      "\u001b[0;31m---------------------------------------------------------------------------\u001b[0m",
      "\u001b[0;31mModuleNotFoundError\u001b[0m                       Traceback (most recent call last)",
      "\u001b[0;32m<ipython-input-5-7dd3504c366f>\u001b[0m in \u001b[0;36m<module>\u001b[0;34m\u001b[0m\n\u001b[0;32m----> 1\u001b[0;31m \u001b[0;32mimport\u001b[0m \u001b[0mpandas\u001b[0m \u001b[0;32mas\u001b[0m \u001b[0mpd\u001b[0m\u001b[0;34m\u001b[0m\u001b[0;34m\u001b[0m\u001b[0m\n\u001b[0m",
      "\u001b[0;31mModuleNotFoundError\u001b[0m: No module named 'pandas'"
     ]
    }
   ],
   "source": [
    "import pandas as pd"
   ]
  },
  {
   "cell_type": "code",
   "execution_count": 1,
   "metadata": {
    "id": "nN1g_hypGStp"
   },
   "outputs": [
    {
     "name": "stdout",
     "output_type": "stream",
     "text": [
      "Requirement already satisfied: pandas in /usr/local/lib/python3.9/site-packages (1.2.4)\n",
      "Requirement already satisfied: python-dateutil>=2.7.3 in /usr/local/lib/python3.9/site-packages (from pandas) (2.8.1)\n",
      "Requirement already satisfied: numpy>=1.16.5 in /usr/local/lib/python3.9/site-packages (from pandas) (1.20.2)\n",
      "Requirement already satisfied: pytz>=2017.3 in /usr/local/lib/python3.9/site-packages (from pandas) (2021.1)\n",
      "Requirement already satisfied: six>=1.5 in /usr/local/lib/python3.9/site-packages (from python-dateutil>=2.7.3->pandas) (1.15.0)\n",
      "Python 3.9.2\n"
     ]
    }
   ],
   "source": [
    "# requirements\n",
    "\n",
    "# 다운받은 html안의 table element를 CSV파일로 만들어 주는 프로그램\n",
    "# original : https://github.com/hanwentao/html2csv.git\n",
    "#!git clone https://github.com/SecretJuJu/html2csv.git\n",
    "\n",
    "    \n",
    "!pip3 install pandas\n",
    "!python3 --version\n"
   ]
  },
  {
   "cell_type": "code",
   "execution_count": 2,
   "metadata": {},
   "outputs": [
    {
     "ename": "NameError",
     "evalue": "name 'Errors' is not defined",
     "output_type": "error",
     "traceback": [
      "\u001b[0;31m---------------------------------------------------------------------------\u001b[0m",
      "\u001b[0;31mNameError\u001b[0m                                 Traceback (most recent call last)",
      "\u001b[0;32m<ipython-input-2-ef9b8870b635>\u001b[0m in \u001b[0;36m<module>\u001b[0;34m\u001b[0m\n\u001b[1;32m      7\u001b[0m \u001b[0mCSVFOLDER\u001b[0m\u001b[0;34m=\u001b[0m\u001b[0mDATAFOLDER\u001b[0m\u001b[0;34m+\u001b[0m\u001b[0;34m\"/csvs\"\u001b[0m\u001b[0;34m\u001b[0m\u001b[0;34m\u001b[0m\u001b[0m\n\u001b[1;32m      8\u001b[0m \u001b[0;34m\u001b[0m\u001b[0m\n\u001b[0;32m----> 9\u001b[0;31m \u001b[0merrorModel\u001b[0m \u001b[0;34m=\u001b[0m \u001b[0mErrors\u001b[0m\u001b[0;34m(\u001b[0m\u001b[0;34m)\u001b[0m\u001b[0;34m\u001b[0m\u001b[0;34m\u001b[0m\u001b[0m\n\u001b[0m\u001b[1;32m     10\u001b[0m \u001b[0;34m\u001b[0m\u001b[0m\n\u001b[1;32m     11\u001b[0m \u001b[0;32mdef\u001b[0m \u001b[0mhtmlToCSV\u001b[0m\u001b[0;34m(\u001b[0m\u001b[0mtarget\u001b[0m\u001b[0;34m)\u001b[0m\u001b[0;34m:\u001b[0m\u001b[0;34m\u001b[0m\u001b[0;34m\u001b[0m\u001b[0m\n",
      "\u001b[0;31mNameError\u001b[0m: name 'Errors' is not defined"
     ]
    }
   ],
   "source": [
    "# 다운로드한 통계사이트의 html들을 CSV파일로 변환한다.\n",
    "import os\n",
    "import sys\n",
    "\n",
    "DATAFOLDER=\"./datas\"\n",
    "HTMLFOLDER=DATAFOLDER+\"/htmls\"\n",
    "CSVFOLDER=DATAFOLDER+\"/csvs\"\n",
    "\n",
    "errorModel = Errors()\n",
    "    \n",
    "def htmlToCSV(target):\n",
    "    command = \"python3 ./html2csv/html2csv/__main__.py \\\"{}\\\" -o \\\"{}\\\"\".format(\n",
    "        target[\"input\"],\n",
    "        target[\"output\"]\n",
    "    )\n",
    "    os.system(command)\n",
    "    print(\"command : {}\".format(command))\n",
    "    print(target[\"output\"])\n",
    "    1\n",
    "def main():\n",
    "    \n",
    "    targets = [\n",
    "        {\n",
    "            \"input\": HTMLFOLDER+\"/국가별_ipv6_가능_비율.html\",\n",
    "            \"output\": CSVFOLDER+\"/국가별_ipv6_가능_비율.csv\"\n",
    "        }\n",
    "    ]\n",
    "    \n",
    "    for target in targets:\n",
    "        htmlToCSV(target)\n",
    "    print(\"done\")\n",
    "    \n",
    "main()"
   ]
  },
  {
   "cell_type": "markdown",
   "metadata": {
    "id": "do07qh3PGStq"
   },
   "source": [
    "## 3. 탐색적 데이터 분석 과정\n",
    "\n",
    "#### 표를 활용하여 분석하기"
   ]
  },
  {
   "cell_type": "markdown",
   "metadata": {
    "id": "do07qh3PGStq"
   },
   "source": [
    "선언 & 그래프 만들기 구현"
   ]
  },
  {
   "cell_type": "code",
   "execution_count": null,
   "metadata": {},
   "outputs": [],
   "source": [
    "import pandas as pd\n",
    "\n",
    "def display_csv(path):\n",
    "    print(path)\n",
    "    data = pd.read_csv(path)\n",
    "    pd"
   ]
  },
  {
   "cell_type": "markdown",
   "metadata": {
    "id": "do07qh3PGStq"
   },
   "source": [
    "### 1. 대륙별 IPv6 비율\n"
   ]
  },
  {
   "cell_type": "code",
   "execution_count": null,
   "metadata": {
    "id": "4GzgAMkWGStq"
   },
   "outputs": [],
   "source": [
    "display_csv(\"./datas/csvs/국가별_ipv6_가능_비율(대륙별).csv\")"
   ]
  },
  {
   "cell_type": "markdown",
   "metadata": {
    "id": "nQesdyHNGStr"
   },
   "source": [
    "#### 그래프를 활용하여 분석하기"
   ]
  },
  {
   "cell_type": "code",
   "execution_count": null,
   "metadata": {
    "id": "Vz2QlGrkGStr"
   },
   "outputs": [],
   "source": [
    "# matplotlib, seaborn 등 활용"
   ]
  },
  {
   "cell_type": "markdown",
   "metadata": {
    "id": "OwvTG3p5GStr"
   },
   "source": [
    "## 4. 결론\n",
    "- 질문에 대한 답"
   ]
  }
 ],
 "metadata": {
  "colab": {
   "name": "프로젝트 이름(학번_이름).ipynb",
   "provenance": []
  },
  "kernelspec": {
   "display_name": "Python 3",
   "language": "python",
   "name": "python3"
  },
  "language_info": {
   "codemirror_mode": {
    "name": "ipython",
    "version": 3
   },
   "file_extension": ".py",
   "mimetype": "text/x-python",
   "name": "python",
   "nbconvert_exporter": "python",
   "pygments_lexer": "ipython3",
   "version": "3.9.2"
  }
 },
 "nbformat": 4,
 "nbformat_minor": 1
}
