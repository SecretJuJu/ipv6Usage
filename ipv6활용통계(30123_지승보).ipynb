{
 "cells": [
  {
   "cell_type": "markdown",
   "metadata": {
    "id": "WvBOmZRcGSth"
   },
   "source": [
    "# 프로젝트 이름\n",
    "- 학번 : 30123\n",
    "- 이름 : 지승보\n",
    "\n",
    "## 1. 주제\n",
    "- 질문\n",
    "1학년 네트워크시간에 IPv4의 고갈때문에 IPv6가 등장했다 하였는데 과연 IPv6는 얼마나 활용하고 있을까?\n",
    "\n",
    "## 2. 데이터 수집\n",
    "- 데이터 수집 방법 : 데이터를 보여주는 사이트의 table을 추출\n",
    "- 데이터 수집 사이트 : https://stats.labs.apnic.net/ipv6"
   ]
  },
  {
   "cell_type": "code",
   "execution_count": 2,
   "metadata": {
    "id": "nN1g_hypGStp"
   },
   "outputs": [
    {
     "name": "stdout",
     "output_type": "stream",
     "text": [
      "fatal: destination path 'html2csv' already exists and is not an empty directory.\n",
      "Requirement already satisfied: numpy in /usr/local/anaconda3/lib/python3.8/site-packages (1.20.1)\n",
      "Requirement already satisfied: pandas in /usr/local/anaconda3/lib/python3.8/site-packages (1.2.4)\n",
      "Requirement already satisfied: python-dateutil>=2.7.3 in /usr/local/anaconda3/lib/python3.8/site-packages (from pandas) (2.8.1)\n",
      "Requirement already satisfied: pytz>=2017.3 in /usr/local/anaconda3/lib/python3.8/site-packages (from pandas) (2021.1)\n",
      "Requirement already satisfied: six>=1.5 in /usr/local/anaconda3/lib/python3.8/site-packages (from python-dateutil>=2.7.3->pandas) (1.15.0)\n",
      "Python 3.8.8\n"
     ]
    }
   ],
   "source": [
    "# requirements\n",
    "\n",
    "# 다운받은 html안의 table element를 CSV파일로 만들어 주는 프로그램\n",
    "# original : https://github.com/hanwentao/html2csv.git\n",
    "!git clone https://github.com/SecretJuJu/html2csv.git\n",
    "\n",
    "!pip install numpy pandas\n",
    "!python3 --version\n"
   ]
  },
  {
   "cell_type": "code",
   "execution_count": 3,
   "metadata": {},
   "outputs": [
    {
     "name": "stdout",
     "output_type": "stream",
     "text": [
      "command : python3 ./html2csv/html2csv/__main__.py \"./datas/htmls/국가별_ipv6_가능_비율.html\" -o \"./datas/csvs/국가별_ipv6_가능_비율.csv\"\n",
      "./datas/csvs/국가별_ipv6_가능_비율.csv\n",
      "done\n"
     ]
    }
   ],
   "source": [
    "# 다운로드한 통계사이트의 html들을 CSV파일로 변환한다.\n",
    "import os\n",
    "import sys\n",
    "\n",
    "DATAFOLDER=\"./datas\"\n",
    "HTMLFOLDER=DATAFOLDER+\"/htmls\"\n",
    "CSVFOLDER=DATAFOLDER+\"/csvs\"\n",
    "\n",
    "    \n",
    "def htmlToCSV(target):\n",
    "    command = \"python3 ./html2csv/html2csv/__main__.py \\\"{}\\\" -o \\\"{}\\\"\".format(\n",
    "        target[\"input\"],\n",
    "        target[\"output\"]\n",
    "    )\n",
    "    os.system(command)\n",
    "    print(\"command : {}\".format(command))\n",
    "    print(target[\"output\"])\n",
    "    1\n",
    "def main():\n",
    "    \n",
    "    targets = [\n",
    "        {\n",
    "            \"input\": HTMLFOLDER+\"/국가별_ipv6_가능_비율.html\",\n",
    "            \"output\": CSVFOLDER+\"/국가별_ipv6_가능_비율.csv\"\n",
    "        }\n",
    "    ]\n",
    "    \n",
    "    for target in targets:\n",
    "        htmlToCSV(target)\n",
    "    print(\"done\")\n",
    "    \n",
    "main()"
   ]
  },
  {
   "cell_type": "markdown",
   "metadata": {
    "id": "do07qh3PGStq"
   },
   "source": [
    "## 3. 탐색적 데이터 분석 과정\n",
    "\n",
    "#### 표를 활용하여 분석하기"
   ]
  },
  {
   "cell_type": "code",
   "execution_count": 4,
   "metadata": {},
   "outputs": [
    {
     "ename": "ModuleNotFoundError",
     "evalue": "No module named 'pandas'",
     "output_type": "error",
     "traceback": [
      "\u001b[0;31m---------------------------------------------------------------------------\u001b[0m",
      "\u001b[0;31mModuleNotFoundError\u001b[0m                       Traceback (most recent call last)",
      "\u001b[0;32m<ipython-input-4-e6fa034b93de>\u001b[0m in \u001b[0;36m<module>\u001b[0;34m\u001b[0m\n\u001b[1;32m      1\u001b[0m \u001b[0;32mfrom\u001b[0m \u001b[0mconverter\u001b[0m \u001b[0;32mimport\u001b[0m \u001b[0mConverter\u001b[0m\u001b[0;34m\u001b[0m\u001b[0;34m\u001b[0m\u001b[0m\n\u001b[0;32m----> 2\u001b[0;31m \u001b[0;32mimport\u001b[0m \u001b[0mpandas\u001b[0m \u001b[0;32mas\u001b[0m \u001b[0mpd\u001b[0m\u001b[0;34m\u001b[0m\u001b[0;34m\u001b[0m\u001b[0m\n\u001b[0m\u001b[1;32m      3\u001b[0m \u001b[0;32mimport\u001b[0m \u001b[0mos\u001b[0m\u001b[0;34m\u001b[0m\u001b[0;34m\u001b[0m\u001b[0m\n\u001b[1;32m      4\u001b[0m \u001b[0;32mimport\u001b[0m \u001b[0mmatplotlib\u001b[0m\u001b[0;34m.\u001b[0m\u001b[0mpyplot\u001b[0m \u001b[0;32mas\u001b[0m \u001b[0mplt\u001b[0m\u001b[0;34m\u001b[0m\u001b[0;34m\u001b[0m\u001b[0m\n\u001b[1;32m      5\u001b[0m \u001b[0;32mimport\u001b[0m \u001b[0mnumpy\u001b[0m \u001b[0;32mas\u001b[0m \u001b[0mnp\u001b[0m\u001b[0;34m\u001b[0m\u001b[0;34m\u001b[0m\u001b[0m\n",
      "\u001b[0;31mModuleNotFoundError\u001b[0m: No module named 'pandas'"
     ]
    }
   ],
   "source": [
    "from converter import Converter\n",
    "import pandas as pd\n",
    "import os\n",
    "import matplotlib.pyplot as plt\n",
    "import numpy as np\n",
    "import platform\n",
    "\n",
    "if platform.system() == 'Darwin': #맥\n",
    "        plt.rc('font', family='AppleGothic') \n",
    "elif platform.system() == 'Windows': #윈도우\n",
    "        plt.rc('font', family='Malgun Gothic') \n",
    "elif platform.system() == 'Linux': #리눅스 (구글 콜랩)\n",
    "        #!wget \"https://www.wfonts.com/download/data/2016/06/13/malgun-gothic/malgun.ttf\"\n",
    "        #!mv malgun.ttf /usr/share/fonts/truetype/\n",
    "        #import matplotlib.font_manager as fm \n",
    "        #fm._rebuild() \n",
    "        plt.rc('font', family='Malgun Gothic') \n",
    "\n",
    "\n",
    "conveter = Converter()\n",
    "\n",
    "DATAFOLDER=\"./datas\"\n",
    "HTMLFOLDER=DATAFOLDER+\"/htmls\"\n",
    "CSVFOLDER=DATAFOLDER+\"/csvs\"\n",
    "\n",
    "targets = [\n",
    "    {\n",
    "    \"input\": HTMLFOLDER+\"/국가별_ipv6_가능_비율.html\",\n",
    "    \"output\": CSVFOLDER+\"/국가별_ipv6_가능_비율.csv\"\n",
    "    }\n",
    "]\n",
    "\n",
    "def align_center(value):\n",
    "    # value : string\n",
    "    return value.center(os.get_terminal_size().columns)\n",
    "\n",
    "def convert_percent_to_float(df,columnName):\n",
    "    df[columnName] = df[columnName].str.rstrip('%').astype('float') / 100.0\n",
    "\n",
    "def convert_float_to_percent(df,columnName):\n",
    "    df[columnName] = pd.to_numeric(df[columnName], errors='coerce').fillna(0).map(\"{:.2%}\".format)\n",
    "\n",
    "    "
   ]
  },
  {
   "cell_type": "markdown",
   "metadata": {
    "id": "nQesdyHNGStr"
   },
   "source": [
    "#### 그래프를 활용하여 분석하기"
   ]
  },
  {
   "cell_type": "code",
   "execution_count": 7,
   "metadata": {
    "id": "Vz2QlGrkGStr"
   },
   "outputs": [
    {
     "name": "stdout",
     "output_type": "stream",
     "text": [
      "Collecting matplotlib\n",
      "  Downloading matplotlib-3.3.4-cp36-cp36m-macosx_10_9_x86_64.whl (8.5 MB)\n",
      "\u001b[K     |████████████████████████████████| 8.5 MB 3.0 MB/s eta 0:00:01\n",
      "\u001b[?25hCollecting pyparsing!=2.0.4,!=2.1.2,!=2.1.6,>=2.0.3\n",
      "  Using cached pyparsing-2.4.7-py2.py3-none-any.whl (67 kB)\n",
      "Requirement already satisfied: numpy>=1.15 in ./.venv/lib/python3.6/site-packages (from matplotlib) (1.19.5)\n",
      "Collecting pillow>=6.2.0\n",
      "  Downloading Pillow-8.2.0-cp36-cp36m-macosx_10_10_x86_64.whl (2.8 MB)\n",
      "\u001b[K     |████████████████████████████████| 2.8 MB 5.6 MB/s eta 0:00:01\n",
      "\u001b[?25hRequirement already satisfied: python-dateutil>=2.1 in ./.venv/lib/python3.6/site-packages (from matplotlib) (2.8.1)\n",
      "Collecting kiwisolver>=1.0.1\n",
      "  Downloading kiwisolver-1.3.1-cp36-cp36m-macosx_10_9_x86_64.whl (61 kB)\n",
      "\u001b[K     |████████████████████████████████| 61 kB 5.7 MB/s eta 0:00:01\n",
      "\u001b[?25hCollecting cycler>=0.10\n",
      "  Downloading cycler-0.10.0-py2.py3-none-any.whl (6.5 kB)\n",
      "Requirement already satisfied: six in ./.venv/lib/python3.6/site-packages (from cycler>=0.10->matplotlib) (1.16.0)\n",
      "Installing collected packages: pyparsing, pillow, kiwisolver, cycler, matplotlib\n",
      "Successfully installed cycler-0.10.0 kiwisolver-1.3.1 matplotlib-3.3.4 pillow-8.2.0 pyparsing-2.4.7\n"
     ]
    }
   ],
   "source": [
    "# matplotlib, seaborn 등 활용\n",
    "!pip install matplotlib"
   ]
  },
  {
   "cell_type": "code",
   "execution_count": 9,
   "metadata": {},
   "outputs": [
    {
     "ename": "ModuleNotFoundError",
     "evalue": "No module named 'matplotlib'",
     "output_type": "error",
     "traceback": [
      "\u001b[0;31m---------------------------------------------------------------------------\u001b[0m",
      "\u001b[0;31mModuleNotFoundError\u001b[0m                       Traceback (most recent call last)",
      "\u001b[0;32m<ipython-input-9-428513f2c9d1>\u001b[0m in \u001b[0;36m<module>\u001b[0;34m\u001b[0m\n\u001b[0;32m----> 1\u001b[0;31m \u001b[0;32mimport\u001b[0m \u001b[0mmatplotlib\u001b[0m\u001b[0;34m.\u001b[0m\u001b[0mplot\u001b[0m \u001b[0;32mas\u001b[0m \u001b[0mplt\u001b[0m\u001b[0;34m\u001b[0m\u001b[0;34m\u001b[0m\u001b[0m\n\u001b[0m",
      "\u001b[0;31mModuleNotFoundError\u001b[0m: No module named 'matplotlib'"
     ]
    }
   ],
   "source": [
    "import matplotlib.plot as plt"
   ]
  },
  {
   "cell_type": "markdown",
   "metadata": {
    "id": "OwvTG3p5GStr"
   },
   "source": [
    "## 4. 결론\n",
    "- 질문에 대한 답"
   ]
  },
  {
   "cell_type": "code",
   "execution_count": null,
   "metadata": {},
   "outputs": [],
   "source": []
  }
 ],
 "metadata": {
  "colab": {
   "name": "프로젝트 이름(학번_이름).ipynb",
   "provenance": []
  },
  "kernelspec": {
   "display_name": "Python 3",
   "language": "python",
   "name": "python3"
  },
  "language_info": {
   "codemirror_mode": {
    "name": "ipython",
    "version": 3
   },
   "file_extension": ".py",
   "mimetype": "text/x-python",
   "name": "python",
   "nbconvert_exporter": "python",
   "pygments_lexer": "ipython3",
   "version": "3.9.5"
  }
 },
 "nbformat": 4,
 "nbformat_minor": 1
}
